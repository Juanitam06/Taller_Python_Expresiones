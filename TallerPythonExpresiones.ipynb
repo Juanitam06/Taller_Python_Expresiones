{
  "nbformat": 4,
  "nbformat_minor": 0,
  "metadata": {
    "colab": {
      "provenance": [],
      "authorship_tag": "ABX9TyMCEdRz41892PGJVw6emjFV",
      "include_colab_link": true
    },
    "kernelspec": {
      "name": "python3",
      "display_name": "Python 3"
    },
    "language_info": {
      "name": "python"
    }
  },
  "cells": [
    {
      "cell_type": "markdown",
      "metadata": {
        "id": "view-in-github",
        "colab_type": "text"
      },
      "source": [
        "<a href=\"https://colab.research.google.com/github/Juanitam06/Taller_Python_Expresiones/blob/main/TallerPythonExpresiones.ipynb\" target=\"_parent\"><img src=\"https://colab.research.google.com/assets/colab-badge.svg\" alt=\"Open In Colab\"/></a>"
      ]
    },
    {
      "cell_type": "markdown",
      "source": [
        "#Calcular expresiones matematicas"
      ],
      "metadata": {
        "id": "krr4hLOGzvu6"
      }
    },
    {
      "cell_type": "code",
      "execution_count": 1,
      "metadata": {
        "id": "t1vNNDUXy17B"
      },
      "outputs": [],
      "source": [
        "import math"
      ]
    },
    {
      "cell_type": "code",
      "source": [
        "resultado = math.log(12 + math.sin(math.pi/2)) + math.sqrt(math.atan(2.56 + math.pi/8))\n",
        "resultado"
      ],
      "metadata": {
        "colab": {
          "base_uri": "https://localhost:8080/"
        },
        "id": "_-2ItMBK0GjI",
        "outputId": "d802f831-c6dd-4281-be4a-9fe3b0d39b99"
      },
      "execution_count": 2,
      "outputs": [
        {
          "output_type": "execute_result",
          "data": {
            "text/plain": [
              "3.6804078416299673"
            ]
          },
          "metadata": {},
          "execution_count": 2
        }
      ]
    },
    {
      "cell_type": "code",
      "source": [
        "#linspace\n",
        "import numpy as np\n",
        "\n",
        "valores = np.linspace(0, 100, 50)\n",
        "valores"
      ],
      "metadata": {
        "colab": {
          "base_uri": "https://localhost:8080/"
        },
        "id": "4e0uPhZN2B8Z",
        "outputId": "779ea60f-1e94-49a0-b2ab-34496cc9f10c"
      },
      "execution_count": 8,
      "outputs": [
        {
          "output_type": "execute_result",
          "data": {
            "text/plain": [
              "array([  0.        ,   2.04081633,   4.08163265,   6.12244898,\n",
              "         8.16326531,  10.20408163,  12.24489796,  14.28571429,\n",
              "        16.32653061,  18.36734694,  20.40816327,  22.44897959,\n",
              "        24.48979592,  26.53061224,  28.57142857,  30.6122449 ,\n",
              "        32.65306122,  34.69387755,  36.73469388,  38.7755102 ,\n",
              "        40.81632653,  42.85714286,  44.89795918,  46.93877551,\n",
              "        48.97959184,  51.02040816,  53.06122449,  55.10204082,\n",
              "        57.14285714,  59.18367347,  61.2244898 ,  63.26530612,\n",
              "        65.30612245,  67.34693878,  69.3877551 ,  71.42857143,\n",
              "        73.46938776,  75.51020408,  77.55102041,  79.59183673,\n",
              "        81.63265306,  83.67346939,  85.71428571,  87.75510204,\n",
              "        89.79591837,  91.83673469,  93.87755102,  95.91836735,\n",
              "        97.95918367, 100.        ])"
            ]
          },
          "metadata": {},
          "execution_count": 8
        }
      ]
    },
    {
      "cell_type": "code",
      "source": [
        "nuevos_valores= np.where(valores<30, valores, 0)\n",
        "nuevos_valores"
      ],
      "metadata": {
        "colab": {
          "base_uri": "https://localhost:8080/"
        },
        "id": "R5Gdvymr4MBq",
        "outputId": "a7e84847-37f5-4581-d5a2-bdc3a5ae6804"
      },
      "execution_count": 10,
      "outputs": [
        {
          "output_type": "execute_result",
          "data": {
            "text/plain": [
              "array([ 0.        ,  2.04081633,  4.08163265,  6.12244898,  8.16326531,\n",
              "       10.20408163, 12.24489796, 14.28571429, 16.32653061, 18.36734694,\n",
              "       20.40816327, 22.44897959, 24.48979592, 26.53061224, 28.57142857,\n",
              "        0.        ,  0.        ,  0.        ,  0.        ,  0.        ,\n",
              "        0.        ,  0.        ,  0.        ,  0.        ,  0.        ,\n",
              "        0.        ,  0.        ,  0.        ,  0.        ,  0.        ,\n",
              "        0.        ,  0.        ,  0.        ,  0.        ,  0.        ,\n",
              "        0.        ,  0.        ,  0.        ,  0.        ,  0.        ,\n",
              "        0.        ,  0.        ,  0.        ,  0.        ,  0.        ,\n",
              "        0.        ,  0.        ,  0.        ,  0.        ,  0.        ])"
            ]
          },
          "metadata": {},
          "execution_count": 10
        }
      ]
    },
    {
      "cell_type": "code",
      "source": [
        "nuevos_valores= np.where(valores<30)\n",
        "nuevos_valores"
      ],
      "metadata": {
        "colab": {
          "base_uri": "https://localhost:8080/"
        },
        "id": "_-DVe15b6kb6",
        "outputId": "b5325f9a-e982-4b08-c8c0-9a07bea15b34"
      },
      "execution_count": 11,
      "outputs": [
        {
          "output_type": "execute_result",
          "data": {
            "text/plain": [
              "(array([ 0,  1,  2,  3,  4,  5,  6,  7,  8,  9, 10, 11, 12, 13, 14]),)"
            ]
          },
          "metadata": {},
          "execution_count": 11
        }
      ]
    },
    {
      "cell_type": "code",
      "source": [
        "valor = valores[22]\n",
        "valor"
      ],
      "metadata": {
        "colab": {
          "base_uri": "https://localhost:8080/"
        },
        "id": "khxQcJEh6wfB",
        "outputId": "60c220be-0b07-4452-895b-55eaeeeedc31"
      },
      "execution_count": 13,
      "outputs": [
        {
          "output_type": "execute_result",
          "data": {
            "text/plain": [
              "44.89795918367347"
            ]
          },
          "metadata": {},
          "execution_count": 13
        }
      ]
    },
    {
      "cell_type": "code",
      "source": [
        "valoresindices= valores[[1,34,12]]\n",
        "valoresindices"
      ],
      "metadata": {
        "colab": {
          "base_uri": "https://localhost:8080/"
        },
        "id": "nA6E2MzR7SJ5",
        "outputId": "7b1fb0bc-4fb0-4a22-8db6-6ad6086c146e"
      },
      "execution_count": 14,
      "outputs": [
        {
          "output_type": "execute_result",
          "data": {
            "text/plain": [
              "array([ 2.04081633, 69.3877551 , 24.48979592])"
            ]
          },
          "metadata": {},
          "execution_count": 14
        }
      ]
    },
    {
      "cell_type": "code",
      "source": [
        "import numpy as np\n",
        "\n",
        "X = np.linspace(0,10,100)\n",
        "Y = np.log(X + np.sin(np.pi/2)) + np.sqrt(np.arctan(X/5 + np.pi/8))\n",
        "Y"
      ],
      "metadata": {
        "colab": {
          "base_uri": "https://localhost:8080/"
        },
        "id": "HOTtaYmV72uQ",
        "outputId": "70768d7b-8998-4409-bfef-1adb7bde5449"
      },
      "execution_count": 18,
      "outputs": [
        {
          "output_type": "execute_result",
          "data": {
            "text/plain": [
              "array([0.61171618, 0.72199021, 0.82331108, 0.91707211, 1.00435755,\n",
              "       1.08602827, 1.16277966, 1.23518183, 1.30370831, 1.36875694,\n",
              "       1.4306654 , 1.4897229 , 1.54617918, 1.60025153, 1.65213023,\n",
              "       1.70198298, 1.7499584 , 1.79618884, 1.84079279, 1.88387677,\n",
              "       1.9255369 , 1.9658603 , 2.00492615, 2.04280672, 2.0795681 ,\n",
              "       2.11527095, 2.1499711 , 2.18372002, 2.21656532, 2.2485511 ,\n",
              "       2.27971832, 2.31010509, 2.33974693, 2.36867702, 2.39692636,\n",
              "       2.42452404, 2.4514973 , 2.47787178, 2.50367158, 2.52891939,\n",
              "       2.55363664, 2.57784354, 2.6015592 , 2.62480173, 2.64758824,\n",
              "       2.66993499, 2.6918574 , 2.71337012, 2.73448707, 2.7552215 ,\n",
              "       2.77558604, 2.79559271, 2.81525299, 2.83457781, 2.85357765,\n",
              "       2.87226248, 2.89064187, 2.90872495, 2.9265205 , 2.94403688,\n",
              "       2.96128215, 2.97826402, 2.99498988, 3.01146685, 3.02770174,\n",
              "       3.04370112, 3.0594713 , 3.07501834, 3.09034808, 3.10546614,\n",
              "       3.12037794, 3.13508871, 3.14960346, 3.16392705, 3.17806416,\n",
              "       3.19201932, 3.20579688, 3.21940106, 3.23283592, 3.24610541,\n",
              "       3.25921332, 3.27216335, 3.28495904, 3.29760385, 3.31010111,\n",
              "       3.32245405, 3.3346658 , 3.3467394 , 3.35867778, 3.3704838 ,\n",
              "       3.38216022, 3.39370972, 3.4051349 , 3.4164383 , 3.42762236,\n",
              "       3.43868946, 3.44964193, 3.460482  , 3.47121186, 3.48183364])"
            ]
          },
          "metadata": {},
          "execution_count": 18
        }
      ]
    },
    {
      "cell_type": "code",
      "source": [
        "import matplotlib.pyplot as plt"
      ],
      "metadata": {
        "id": "FE5CfLWIBRQE"
      },
      "execution_count": 19,
      "outputs": []
    },
    {
      "cell_type": "code",
      "source": [
        "miGrafica = plt.figure(figsize=(10,5))\n",
        "\n",
        "plt.plot(X, Y, color='r')\n",
        "plt.xlabel('X')\n",
        "plt.ylabel('Y')\n",
        "plt.title('Grafica')\n",
        "plt.grid(True)\n",
        "plt.legend('Y= Y = np.log(X + np.sin(np.pi/2)) + np.sqrt(np.arctan(X/5 + np.pi/8))')\n",
        "plt.show()"
      ],
      "metadata": {
        "colab": {
          "base_uri": "https://localhost:8080/",
          "height": 487
        },
        "id": "0cOcttgvBdJJ",
        "outputId": "8d7e9142-cdf2-44e0-ba8a-77194f730dff"
      },
      "execution_count": 29,
      "outputs": [
        {
          "output_type": "display_data",
          "data": {
            "text/plain": [
              "<Figure size 1000x500 with 1 Axes>"
            ],
            "image/png": "[encoded data removed]"
          },
          "metadata": {}
        }
      ]
    }
  ]
}